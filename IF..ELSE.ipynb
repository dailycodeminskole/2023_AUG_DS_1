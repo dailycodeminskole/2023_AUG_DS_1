{
 "cells": [
  {
   "cell_type": "code",
   "execution_count": 1,
   "id": "75293ffe",
   "metadata": {},
   "outputs": [],
   "source": [
    "# if condition"
   ]
  },
  {
   "cell_type": "code",
   "execution_count": 2,
   "id": "43d0772f",
   "metadata": {},
   "outputs": [
    {
     "name": "stdout",
     "output_type": "stream",
     "text": [
      "you have passed the exam !!!\n"
     ]
    }
   ],
   "source": [
    "print(\"you have passed the exam !!!\")"
   ]
  },
  {
   "cell_type": "code",
   "execution_count": 3,
   "id": "b76a77b5",
   "metadata": {},
   "outputs": [
    {
     "name": "stdout",
     "output_type": "stream",
     "text": [
      "you have passed the exam !!!\n"
     ]
    }
   ],
   "source": [
    "score = 74\n",
    "pass_marks = 30\n",
    "print(\"you have passed the exam !!!\")"
   ]
  },
  {
   "cell_type": "code",
   "execution_count": 5,
   "id": "1713293b",
   "metadata": {},
   "outputs": [],
   "source": [
    "score = 27\n",
    "pass_marks = 30\n",
    "\n",
    "\n",
    "if score>= pass_marks:\n",
    "    print(\"you have passed the exam !!!\")"
   ]
  },
  {
   "cell_type": "code",
   "execution_count": 6,
   "id": "004b7fed",
   "metadata": {},
   "outputs": [
    {
     "name": "stdout",
     "output_type": "stream",
     "text": [
      "you have passed the exam !!!\n"
     ]
    }
   ],
   "source": [
    "score = 30\n",
    "pass_marks = 30\n",
    "\n",
    "\n",
    "if score>= pass_marks: # we have consideed boundary conditions also\n",
    "    print(\"you have passed the exam !!!\")"
   ]
  },
  {
   "cell_type": "code",
   "execution_count": 7,
   "id": "c4cd34d2",
   "metadata": {},
   "outputs": [
    {
     "name": "stdout",
     "output_type": "stream",
     "text": [
      "Try next year , sorry!!!\n"
     ]
    }
   ],
   "source": [
    "score = 27\n",
    "pass_marks = 30\n",
    "\n",
    "\n",
    "if score>= pass_marks:\n",
    "    print(\"you have passed the exam !!!\")\n",
    "else:\n",
    "    print(\"Try next year , sorry!!!\")"
   ]
  },
  {
   "cell_type": "code",
   "execution_count": 8,
   "id": "230a1991",
   "metadata": {},
   "outputs": [],
   "source": [
    "# eg 2"
   ]
  },
  {
   "cell_type": "code",
   "execution_count": 9,
   "id": "9be09d8b",
   "metadata": {},
   "outputs": [
    {
     "name": "stdout",
     "output_type": "stream",
     "text": [
      "The number is even\n"
     ]
    }
   ],
   "source": [
    "num1 = 16\n",
    "if num1%2 == 0:\n",
    "    print(\"The number is even\")\n",
    "else:\n",
    "    print(\"The number is odd\")"
   ]
  },
  {
   "cell_type": "code",
   "execution_count": 10,
   "id": "6852ecef",
   "metadata": {},
   "outputs": [
    {
     "name": "stdout",
     "output_type": "stream",
     "text": [
      "The number is odd\n"
     ]
    }
   ],
   "source": [
    "num1 = 93\n",
    "if num1%2 == 0:\n",
    "    print(\"The number is even\")\n",
    "else:\n",
    "    print(\"The number is odd\")"
   ]
  },
  {
   "cell_type": "code",
   "execution_count": 11,
   "id": "4c299fc8",
   "metadata": {},
   "outputs": [
    {
     "name": "stdout",
     "output_type": "stream",
     "text": [
      "8\n"
     ]
    }
   ],
   "source": [
    "passwd = \"abc@1234\"\n",
    "\n",
    "print(len(passwd))"
   ]
  },
  {
   "cell_type": "code",
   "execution_count": 12,
   "id": "0f814da0",
   "metadata": {},
   "outputs": [
    {
     "name": "stdout",
     "output_type": "stream",
     "text": [
      "Passsword is strong\n"
     ]
    }
   ],
   "source": [
    "passwd = \"abc@1234\"\n",
    "\n",
    "if len(passwd)>=8:\n",
    "    print(\"Passsword is strong\")\n",
    "else:\n",
    "    print(\"Passsword is weak\")"
   ]
  },
  {
   "cell_type": "code",
   "execution_count": 13,
   "id": "9f6f7f17",
   "metadata": {},
   "outputs": [
    {
     "name": "stdout",
     "output_type": "stream",
     "text": [
      "Passsword is weak\n"
     ]
    }
   ],
   "source": [
    "passwd = \"abc@123\"\n",
    "\n",
    "if len(passwd)>=8:\n",
    "    print(\"Passsword is strong\")\n",
    "else:\n",
    "    print(\"Passsword is weak\")"
   ]
  },
  {
   "cell_type": "markdown",
   "id": "23be7fd3",
   "metadata": {},
   "source": [
    "# taking input from the user"
   ]
  },
  {
   "cell_type": "code",
   "execution_count": 14,
   "id": "8bd52dcf",
   "metadata": {},
   "outputs": [
    {
     "name": "stdout",
     "output_type": "stream",
     "text": [
      "Enter a password of 8 or more charactersabc@123\n",
      "Passsword is weak\n"
     ]
    }
   ],
   "source": [
    "passwd = input(\"Enter a password of 8 or more characters\")\n",
    "\n",
    "if len(passwd)>=8:\n",
    "    print(\"Passsword is strong\")\n",
    "else:\n",
    "    print(\"Passsword is weak\")"
   ]
  },
  {
   "cell_type": "code",
   "execution_count": 15,
   "id": "77425a71",
   "metadata": {},
   "outputs": [
    {
     "name": "stdout",
     "output_type": "stream",
     "text": [
      "Enter a password of 8 or more charactersZAQ!2wsx\n",
      "Passsword is strong\n"
     ]
    }
   ],
   "source": [
    "passwd = input(\"Enter a password of 8 or more characters\")\n",
    "\n",
    "if len(passwd)>=8:\n",
    "    print(\"Passsword is strong\")\n",
    "else:\n",
    "    print(\"Passsword is weak\")"
   ]
  },
  {
   "cell_type": "code",
   "execution_count": 19,
   "id": "52e60d24",
   "metadata": {},
   "outputs": [
    {
     "name": "stdout",
     "output_type": "stream",
     "text": [
      "Enter a number !!!12\n",
      "<class 'str'>\n"
     ]
    },
    {
     "ename": "TypeError",
     "evalue": "not all arguments converted during string formatting",
     "output_type": "error",
     "traceback": [
      "\u001b[1;31m---------------------------------------------------------------------------\u001b[0m",
      "\u001b[1;31mTypeError\u001b[0m                                 Traceback (most recent call last)",
      "Input \u001b[1;32mIn [19]\u001b[0m, in \u001b[0;36m<cell line: 5>\u001b[1;34m()\u001b[0m\n\u001b[0;32m      2\u001b[0m \u001b[38;5;28mprint\u001b[39m(\u001b[38;5;28mtype\u001b[39m(num1))\n\u001b[0;32m      4\u001b[0m \u001b[38;5;66;03m# num1 = 12\u001b[39;00m\n\u001b[1;32m----> 5\u001b[0m \u001b[38;5;28;01mif\u001b[39;00m \u001b[43mnum1\u001b[49m\u001b[38;5;241;43m%\u001b[39;49m\u001b[38;5;241;43m2\u001b[39;49m \u001b[38;5;241m==\u001b[39m \u001b[38;5;241m0\u001b[39m:\n\u001b[0;32m      6\u001b[0m     \u001b[38;5;28mprint\u001b[39m(\u001b[38;5;124m\"\u001b[39m\u001b[38;5;124mThe number is even\u001b[39m\u001b[38;5;124m\"\u001b[39m)\n\u001b[0;32m      7\u001b[0m \u001b[38;5;28;01melse\u001b[39;00m:\n",
      "\u001b[1;31mTypeError\u001b[0m: not all arguments converted during string formatting"
     ]
    }
   ],
   "source": [
    "num1 = input(\"Enter a number !!!\")\n",
    "print(type(num1))\n",
    "\n",
    "# num1 = 12\n",
    "if num1%2 == 0:\n",
    "    print(\"The number is even\")\n",
    "else:\n",
    "    print(\"The number is odd\")"
   ]
  },
  {
   "cell_type": "code",
   "execution_count": 20,
   "id": "b2f31107",
   "metadata": {},
   "outputs": [
    {
     "name": "stdout",
     "output_type": "stream",
     "text": [
      "Enter a number !!!12\n",
      "<class 'int'>\n",
      "The number is even\n"
     ]
    }
   ],
   "source": [
    "num1 = int(input(\"Enter a number !!!\"))\n",
    "print(type(num1))\n",
    "\n",
    "# num1 = 12\n",
    "if num1%2 == 0:\n",
    "    print(\"The number is even\")\n",
    "else:\n",
    "    print(\"The number is odd\")"
   ]
  },
  {
   "cell_type": "code",
   "execution_count": 23,
   "id": "0db0a371",
   "metadata": {},
   "outputs": [
    {
     "name": "stdout",
     "output_type": "stream",
     "text": [
      "Enter a number !!!17\n",
      "<class 'int'>\n",
      "The number is odd\n"
     ]
    }
   ],
   "source": [
    "num1 = int(input(\"Enter a number !!!\")) # the string will be converted to an INteger | type-casting\n",
    "print(type(num1))\n",
    "\n",
    "# num1 = 12\n",
    "if num1%2 == 0:\n",
    "    print(\"The number is even\")\n",
    "else:\n",
    "    print(\"The number is odd\")\n",
    "    "
   ]
  },
  {
   "cell_type": "code",
   "execution_count": 24,
   "id": "a1105982",
   "metadata": {},
   "outputs": [
    {
     "name": "stdout",
     "output_type": "stream",
     "text": [
      "Enter a number !!!12\n",
      "<class 'str'>\n",
      "The number is even\n"
     ]
    }
   ],
   "source": [
    "num1 = input(\"Enter a number !!!\")\n",
    "print(type(num1))\n",
    "\n",
    "# num1 = 12\n",
    "if int(num1)%2 == 0: #changing at desided location\n",
    "    print(\"The number is even\")\n",
    "else:\n",
    "    print(\"The number is odd\")"
   ]
  },
  {
   "cell_type": "code",
   "execution_count": 26,
   "id": "198a7b4e",
   "metadata": {},
   "outputs": [
    {
     "name": "stdout",
     "output_type": "stream",
     "text": [
      "<class 'str'>\n"
     ]
    },
    {
     "data": {
      "text/plain": [
       "['R', 'a', 'm', 'e', 's', 'h']"
      ]
     },
     "execution_count": 26,
     "metadata": {},
     "output_type": "execute_result"
    }
   ],
   "source": [
    "name = \"Ramesh\"\n",
    "print(type(name))\n",
    "list(name)"
   ]
  },
  {
   "cell_type": "code",
   "execution_count": null,
   "id": "1f31a4fb",
   "metadata": {},
   "outputs": [],
   "source": []
  }
 ],
 "metadata": {
  "kernelspec": {
   "display_name": "Python 3 (ipykernel)",
   "language": "python",
   "name": "python3"
  },
  "language_info": {
   "codemirror_mode": {
    "name": "ipython",
    "version": 3
   },
   "file_extension": ".py",
   "mimetype": "text/x-python",
   "name": "python",
   "nbconvert_exporter": "python",
   "pygments_lexer": "ipython3",
   "version": "3.10.5"
  }
 },
 "nbformat": 4,
 "nbformat_minor": 5
}
