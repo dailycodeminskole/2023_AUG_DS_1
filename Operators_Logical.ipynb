{
 "cells": [
  {
   "cell_type": "markdown",
   "id": "75701374",
   "metadata": {},
   "source": [
    "# logical Operators"
   ]
  },
  {
   "cell_type": "code",
   "execution_count": 1,
   "id": "1a47055a",
   "metadata": {},
   "outputs": [],
   "source": [
    "# AND\n",
    "# OR\n",
    "# NOT"
   ]
  },
  {
   "cell_type": "markdown",
   "id": "58a8f052",
   "metadata": {},
   "source": [
    "AND \t\t\n",
    "AGE\tCITIZEN\tID\n",
    "TRUE\tFALSE\tFALSE\n",
    "FALSE\tTRUE\tFALSE\n",
    "FALSE\tFALSE\tFALSE\n",
    "TRUE\tTRUE\tTRUE\n"
   ]
  },
  {
   "cell_type": "code",
   "execution_count": 3,
   "id": "000a1727",
   "metadata": {},
   "outputs": [
    {
     "data": {
      "text/plain": [
       "'AND \\t\\t\\nAGE\\tCITIZEN\\tID\\nTRUE\\tFALSE\\tFALSE\\nFALSE\\tTRUE\\tFALSE\\nFALSE\\tFALSE\\tFALSE\\nTRUE\\tTRUE\\tTRUE\\n'"
      ]
     },
     "execution_count": 3,
     "metadata": {},
     "output_type": "execute_result"
    }
   ],
   "source": [
    "'''AND \t\t\n",
    "AGE\tCITIZEN\tID\n",
    "TRUE\tFALSE\tFALSE\n",
    "FALSE\tTRUE\tFALSE\n",
    "FALSE\tFALSE\tFALSE\n",
    "TRUE\tTRUE\tTRUE\n",
    "'''\n"
   ]
  },
  {
   "cell_type": "code",
   "execution_count": 4,
   "id": "90626cb2",
   "metadata": {},
   "outputs": [
    {
     "data": {
      "text/plain": [
       "'\\nOR\\t\\t\\n\\t\\t\\nTRUE\\tTRUE\\tTRUE\\nTRUE\\tFALSE\\tTRUE\\nFALSE\\tTRUE\\tTRUE\\nFALSE\\tFALSE\\tFALSE\\n\\n'"
      ]
     },
     "execution_count": 4,
     "metadata": {},
     "output_type": "execute_result"
    }
   ],
   "source": [
    "'''\n",
    "OR\t\t\n",
    "\t\t\n",
    "TRUE\tTRUE\tTRUE\n",
    "TRUE\tFALSE\tTRUE\n",
    "FALSE\tTRUE\tTRUE\n",
    "FALSE\tFALSE\tFALSE\n",
    "\n",
    "'''"
   ]
  },
  {
   "cell_type": "code",
   "execution_count": 5,
   "id": "8c626d6e",
   "metadata": {},
   "outputs": [
    {
     "data": {
      "text/plain": [
       "'\\n\\tNOT\\nFALSE\\tTRUE\\nTRUE\\tFALSE\\n\\n\\n'"
      ]
     },
     "execution_count": 5,
     "metadata": {},
     "output_type": "execute_result"
    }
   ],
   "source": [
    "'''\n",
    "\tNOT\n",
    "FALSE\tTRUE\n",
    "TRUE\tFALSE\n",
    "\n",
    "\n",
    "'''"
   ]
  },
  {
   "cell_type": "code",
   "execution_count": 6,
   "id": "a541d83f",
   "metadata": {},
   "outputs": [],
   "source": [
    "a = 55\n",
    "b = 65\n",
    "x = 100\n",
    "y = 200\n",
    "\n"
   ]
  },
  {
   "cell_type": "markdown",
   "id": "b06abae1",
   "metadata": {},
   "source": [
    "# AND"
   ]
  },
  {
   "cell_type": "code",
   "execution_count": 11,
   "id": "a34c1038",
   "metadata": {},
   "outputs": [
    {
     "name": "stdout",
     "output_type": "stream",
     "text": [
      "False\n",
      "False\n",
      "True\n",
      "False\n"
     ]
    }
   ],
   "source": [
    "print((a>b) and (x>y))\n",
    "print((a<b) and (x>y))\n",
    "print((a<b) and (x<y))\n",
    "print((a>b) and (x<y))"
   ]
  },
  {
   "cell_type": "markdown",
   "id": "dae463c9",
   "metadata": {},
   "source": [
    "# OR"
   ]
  },
  {
   "cell_type": "code",
   "execution_count": 12,
   "id": "fd93494a",
   "metadata": {},
   "outputs": [
    {
     "name": "stdout",
     "output_type": "stream",
     "text": [
      "False\n",
      "True\n",
      "True\n",
      "True\n"
     ]
    }
   ],
   "source": [
    "print((a>b) or (x>y))\n",
    "print((a<b) or (x>y))\n",
    "print((a<b) or (x<y))\n",
    "print((a>b) or (x<y))"
   ]
  },
  {
   "cell_type": "markdown",
   "id": "7f9f8f80",
   "metadata": {},
   "source": [
    "# NOT"
   ]
  },
  {
   "cell_type": "code",
   "execution_count": 15,
   "id": "fc102152",
   "metadata": {},
   "outputs": [
    {
     "name": "stdout",
     "output_type": "stream",
     "text": [
      "True\n",
      "False\n"
     ]
    }
   ],
   "source": [
    "print((a>b) or (x<y))\n",
    "print(not((a>b) or (x<y)))"
   ]
  },
  {
   "cell_type": "code",
   "execution_count": 17,
   "id": "609061b1",
   "metadata": {},
   "outputs": [
    {
     "name": "stdout",
     "output_type": "stream",
     "text": [
      "True\n",
      "False\n"
     ]
    }
   ],
   "source": [
    "# using both and and or operator in one exprssion\n",
    "a = 55\n",
    "b = 65\n",
    "x = 100\n",
    "y = 200\n",
    "p = 500\n",
    "q = 600\n",
    "\n",
    "\n",
    "# grouping the criteria as per need\n",
    "print(((a>b) and (x<y)) or (p<q))  #case 1\n",
    "print((a>b) and ((x<y) or (p<q)))  #case 2"
   ]
  },
  {
   "cell_type": "code",
   "execution_count": null,
   "id": "60cc3c2f",
   "metadata": {},
   "outputs": [],
   "source": []
  }
 ],
 "metadata": {
  "kernelspec": {
   "display_name": "Python 3 (ipykernel)",
   "language": "python",
   "name": "python3"
  },
  "language_info": {
   "codemirror_mode": {
    "name": "ipython",
    "version": 3
   },
   "file_extension": ".py",
   "mimetype": "text/x-python",
   "name": "python",
   "nbconvert_exporter": "python",
   "pygments_lexer": "ipython3",
   "version": "3.10.5"
  }
 },
 "nbformat": 4,
 "nbformat_minor": 5
}
