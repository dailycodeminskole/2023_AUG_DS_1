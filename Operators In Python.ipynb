{
 "cells": [
  {
   "cell_type": "code",
   "execution_count": 1,
   "id": "a7de1005",
   "metadata": {},
   "outputs": [
    {
     "ename": "SyntaxError",
     "evalue": "invalid syntax (2081759076.py, line 1)",
     "output_type": "error",
     "traceback": [
      "\u001b[1;36m  Input \u001b[1;32mIn [1]\u001b[1;36m\u001b[0m\n\u001b[1;33m    https://www.anaconda.com/\u001b[0m\n\u001b[1;37m          ^\u001b[0m\n\u001b[1;31mSyntaxError\u001b[0m\u001b[1;31m:\u001b[0m invalid syntax\n"
     ]
    }
   ],
   "source": [
    "https://www.anaconda.com/"
   ]
  },
  {
   "cell_type": "code",
   "execution_count": 2,
   "id": "d7dbfc20",
   "metadata": {},
   "outputs": [
    {
     "name": "stdout",
     "output_type": "stream",
     "text": [
      "Hello World\n"
     ]
    }
   ],
   "source": [
    "print(\"Hello World\")"
   ]
  },
  {
   "cell_type": "markdown",
   "id": "d5451ff1",
   "metadata": {},
   "source": [
    "# Operators in Python"
   ]
  },
  {
   "cell_type": "code",
   "execution_count": 4,
   "id": "cc903268",
   "metadata": {},
   "outputs": [],
   "source": [
    "# 1. Arithmetic"
   ]
  },
  {
   "cell_type": "code",
   "execution_count": 7,
   "id": "35b4b857",
   "metadata": {},
   "outputs": [
    {
     "name": "stdout",
     "output_type": "stream",
     "text": [
      "200\n",
      "0\n",
      "10000\n",
      "1.0\n",
      "0\n",
      "1\n"
     ]
    }
   ],
   "source": [
    "print(100+100)\n",
    "print(100-100)\n",
    "print(100*100)\n",
    "print(100/100)\n",
    "print(100%100) # 0\n",
    "print(100%99) #1"
   ]
  },
  {
   "cell_type": "code",
   "execution_count": 8,
   "id": "c1cfb07a",
   "metadata": {},
   "outputs": [],
   "source": [
    "# 2. Assignmnet operator\n",
    "# single = "
   ]
  },
  {
   "cell_type": "code",
   "execution_count": 9,
   "id": "0a3a7439",
   "metadata": {},
   "outputs": [],
   "source": [
    "x = 100\n",
    "name = \"Ramesh\""
   ]
  },
  {
   "cell_type": "code",
   "execution_count": 10,
   "id": "934babdd",
   "metadata": {},
   "outputs": [],
   "source": [
    "#3. Comparison operator"
   ]
  },
  {
   "cell_type": "code",
   "execution_count": 15,
   "id": "84769e6e",
   "metadata": {},
   "outputs": [
    {
     "name": "stdout",
     "output_type": "stream",
     "text": [
      "False\n",
      "True\n",
      "200\n"
     ]
    }
   ],
   "source": [
    "a = 100\n",
    "b = 200\n",
    "\n",
    "print(a > b)\n",
    "print(a < b)\n",
    "# print(a = b) #this is assignment \n",
    "a = b \n",
    "print(a)"
   ]
  },
  {
   "cell_type": "code",
   "execution_count": 17,
   "id": "3ed63bdc",
   "metadata": {},
   "outputs": [
    {
     "name": "stdout",
     "output_type": "stream",
     "text": [
      "False\n"
     ]
    }
   ],
   "source": [
    "a = 100\n",
    "b = 200\n",
    "print(a == b) #this is == equal to comparison"
   ]
  },
  {
   "cell_type": "code",
   "execution_count": 18,
   "id": "cc5b31d6",
   "metadata": {},
   "outputs": [
    {
     "name": "stdout",
     "output_type": "stream",
     "text": [
      "True\n"
     ]
    }
   ],
   "source": [
    "print(a != b)"
   ]
  },
  {
   "cell_type": "code",
   "execution_count": 19,
   "id": "8ba5d115",
   "metadata": {},
   "outputs": [
    {
     "name": "stdout",
     "output_type": "stream",
     "text": [
      "False\n",
      "True\n"
     ]
    }
   ],
   "source": [
    "print(a >= b)\n",
    "print(a <= b)"
   ]
  },
  {
   "cell_type": "code",
   "execution_count": null,
   "id": "2f80a7cc",
   "metadata": {},
   "outputs": [],
   "source": []
  }
 ],
 "metadata": {
  "kernelspec": {
   "display_name": "Python 3 (ipykernel)",
   "language": "python",
   "name": "python3"
  },
  "language_info": {
   "codemirror_mode": {
    "name": "ipython",
    "version": 3
   },
   "file_extension": ".py",
   "mimetype": "text/x-python",
   "name": "python",
   "nbconvert_exporter": "python",
   "pygments_lexer": "ipython3",
   "version": "3.10.5"
  }
 },
 "nbformat": 4,
 "nbformat_minor": 5
}
