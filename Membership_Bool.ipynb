{
 "cells": [
  {
   "cell_type": "markdown",
   "id": "c0e36c1d",
   "metadata": {},
   "source": [
    "# Membership Operator"
   ]
  },
  {
   "cell_type": "code",
   "execution_count": 1,
   "id": "06dd4fcd",
   "metadata": {},
   "outputs": [],
   "source": [
    "# in\n",
    "# not in"
   ]
  },
  {
   "cell_type": "code",
   "execution_count": 7,
   "id": "b97b607f",
   "metadata": {},
   "outputs": [
    {
     "name": "stdout",
     "output_type": "stream",
     "text": [
      "True\n",
      "True\n",
      "False\n",
      "False\n"
     ]
    }
   ],
   "source": [
    "list_vo = ['A', 'E', 'I', 'O', 'U']\n",
    "print(\"A\" in list_vo)\n",
    "print(\"I\" in list_vo)\n",
    "print(\"Z\" in list_vo)\n",
    "\n",
    "# it is case sensitive\n",
    "print(\"a\" in list_vo)"
   ]
  },
  {
   "cell_type": "code",
   "execution_count": 10,
   "id": "95ca6e90",
   "metadata": {},
   "outputs": [
    {
     "name": "stdout",
     "output_type": "stream",
     "text": [
      "True\n",
      "True\n",
      "False\n"
     ]
    }
   ],
   "source": [
    "name =  \"MINSKOLE\"\n",
    "print(\"M\" in name)\n",
    "print(\"O\" in name)\n",
    "\n",
    "# it is case sensitive\n",
    "print(\"e\" in name)"
   ]
  },
  {
   "cell_type": "code",
   "execution_count": 13,
   "id": "ae49499c",
   "metadata": {},
   "outputs": [
    {
     "name": "stdout",
     "output_type": "stream",
     "text": [
      "True\n",
      "False\n",
      "True\n"
     ]
    }
   ],
   "source": [
    "list_vo = ['A', 'E', 'I', 'O', 'U']\n",
    "print(\"Z\" not in list_vo)\n",
    "print(\"A\" not in list_vo)\n",
    "\n",
    "print(\"s\" not in list_vo)"
   ]
  },
  {
   "cell_type": "markdown",
   "id": "f8521725",
   "metadata": {},
   "source": [
    "# Boolean o/p of data types"
   ]
  },
  {
   "cell_type": "code",
   "execution_count": 15,
   "id": "0b1489b4",
   "metadata": {},
   "outputs": [
    {
     "name": "stdout",
     "output_type": "stream",
     "text": [
      "Hello World\n",
      "True\n"
     ]
    }
   ],
   "source": [
    "print(\"Hello World\")\n",
    "print(bool(\"Hello World\"))"
   ]
  },
  {
   "cell_type": "code",
   "execution_count": 16,
   "id": "ec6fc68a",
   "metadata": {},
   "outputs": [
    {
     "name": "stdout",
     "output_type": "stream",
     "text": [
      "True\n"
     ]
    }
   ],
   "source": [
    "print(bool(1))"
   ]
  },
  {
   "cell_type": "code",
   "execution_count": 19,
   "id": "88c8b06b",
   "metadata": {},
   "outputs": [
    {
     "name": "stdout",
     "output_type": "stream",
     "text": [
      "True\n",
      "True\n",
      "False\n"
     ]
    }
   ],
   "source": [
    "print(bool(10))\n",
    "print(bool('10'))\n"
   ]
  },
  {
   "cell_type": "code",
   "execution_count": 21,
   "id": "61591539",
   "metadata": {},
   "outputs": [
    {
     "name": "stdout",
     "output_type": "stream",
     "text": [
      "False\n",
      "False\n"
     ]
    }
   ],
   "source": [
    "print(bool( ))\n",
    "print(bool(0))"
   ]
  },
  {
   "cell_type": "code",
   "execution_count": 23,
   "id": "65585b8a",
   "metadata": {},
   "outputs": [
    {
     "name": "stdout",
     "output_type": "stream",
     "text": [
      "True\n",
      "True\n"
     ]
    }
   ],
   "source": [
    "print(bool('0'))\n",
    "print(bool(\" \"))"
   ]
  },
  {
   "cell_type": "code",
   "execution_count": 25,
   "id": "dec43bf1",
   "metadata": {},
   "outputs": [
    {
     "name": "stdout",
     "output_type": "stream",
     "text": [
      "False\n",
      "False\n"
     ]
    }
   ],
   "source": [
    "print(bool(0.0))\n",
    "print(bool(00))"
   ]
  },
  {
   "cell_type": "code",
   "execution_count": 28,
   "id": "5b48cd49",
   "metadata": {},
   "outputs": [
    {
     "name": "stdout",
     "output_type": "stream",
     "text": [
      "<class 'list'>\n",
      "False\n",
      "True\n"
     ]
    }
   ],
   "source": [
    "x = []\n",
    "print(type(x))\n",
    "\n",
    "print(bool([])) #bool val of empty list\n",
    "\n",
    "print(bool([1,2,3,4,5])) #bool val of list with elements"
   ]
  },
  {
   "cell_type": "code",
   "execution_count": 30,
   "id": "1ce7a2c6",
   "metadata": {},
   "outputs": [
    {
     "name": "stdout",
     "output_type": "stream",
     "text": [
      "True\n",
      "False\n"
     ]
    }
   ],
   "source": [
    "print(bool(True))\n",
    "print(bool(False))"
   ]
  },
  {
   "cell_type": "code",
   "execution_count": null,
   "id": "f45fcc00",
   "metadata": {},
   "outputs": [],
   "source": []
  },
  {
   "cell_type": "code",
   "execution_count": 31,
   "id": "1a792354",
   "metadata": {},
   "outputs": [
    {
     "name": "stdout",
     "output_type": "stream",
     "text": [
      "b is bigger\n"
     ]
    }
   ],
   "source": [
    "#  if.. else\n",
    "\n",
    "\n",
    "# if <condition> :\n",
    "#     do this \n",
    "# else:\n",
    "#     do that\n",
    "\n",
    "\n",
    "a = 100\n",
    "b = 200\n",
    "\n",
    "if a>b:\n",
    "    print(\"a is bigger\")\n",
    "else:\n",
    "    print(\"b is bigger\")"
   ]
  },
  {
   "cell_type": "code",
   "execution_count": 33,
   "id": "2aed729f",
   "metadata": {},
   "outputs": [
    {
     "name": "stdout",
     "output_type": "stream",
     "text": [
      "I am not there\n"
     ]
    }
   ],
   "source": [
    "if []:\n",
    "    print(\"I am there\")\n",
    "else:\n",
    "    print(\"I am not there\")"
   ]
  },
  {
   "cell_type": "code",
   "execution_count": 34,
   "id": "d7b52cc0",
   "metadata": {},
   "outputs": [
    {
     "name": "stdout",
     "output_type": "stream",
     "text": [
      "I am there\n"
     ]
    }
   ],
   "source": [
    "if \" \":\n",
    "    print(\"I am there\")\n",
    "else:\n",
    "    print(\"I am not there\")"
   ]
  },
  {
   "cell_type": "code",
   "execution_count": 35,
   "id": "fde83748",
   "metadata": {},
   "outputs": [
    {
     "name": "stdout",
     "output_type": "stream",
     "text": [
      "I am not there\n"
     ]
    }
   ],
   "source": [
    "if ():\n",
    "    print(\"I am there\")\n",
    "else:\n",
    "    print(\"I am not there\")"
   ]
  },
  {
   "cell_type": "code",
   "execution_count": null,
   "id": "564bc821",
   "metadata": {},
   "outputs": [],
   "source": []
  }
 ],
 "metadata": {
  "kernelspec": {
   "display_name": "Python 3 (ipykernel)",
   "language": "python",
   "name": "python3"
  },
  "language_info": {
   "codemirror_mode": {
    "name": "ipython",
    "version": 3
   },
   "file_extension": ".py",
   "mimetype": "text/x-python",
   "name": "python",
   "nbconvert_exporter": "python",
   "pygments_lexer": "ipython3",
   "version": "3.10.5"
  }
 },
 "nbformat": 4,
 "nbformat_minor": 5
}
